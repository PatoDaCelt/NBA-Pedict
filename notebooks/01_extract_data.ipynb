{
 "cells": [
  {
   "cell_type": "markdown",
   "id": "738cb9f5",
   "metadata": {},
   "source": [
    "Descarga de datos NBA API"
   ]
  },
  {
   "cell_type": "code",
   "execution_count": 1,
   "id": "3f8ea9c8",
   "metadata": {},
   "outputs": [],
   "source": [
    "from nba_api.stats.endpoints import leagueleaders, leaguedashteamstats\n",
    "import pandas as pd\n",
    "from datetime import datetime"
   ]
  },
  {
   "cell_type": "code",
   "execution_count": 2,
   "id": "034f3669",
   "metadata": {},
   "outputs": [],
   "source": [
    "#Temporada actual NBA\n",
    "season = \"2025-26\""
   ]
  },
  {
   "cell_type": "code",
   "execution_count": 3,
   "id": "0cb6f0ab",
   "metadata": {},
   "outputs": [],
   "source": [
    "#--- Estadisticas de jugadores ---\n",
    "player_stats = leagueleaders.LeagueLeaders(\n",
    "    season = season,\n",
    "    season_type_all_star = \"Regular Season\",\n",
    "    per_mode48 = \"PerGame\"\n",
    ").get_data_frames()[0]\n",
    "\n",
    "#--- Estadísticas de equipos ---\n",
    "team_stats = leaguedashteamstats.LeagueDashTeamStats(\n",
    "    season = season,\n",
    "    season_type_all_star = \"Regular Season\",\n",
    "    measure_type_detailed_defense = \"Base\"\n",
    ").get_data_frames()[0]"
   ]
  },
  {
   "cell_type": "code",
   "execution_count": 4,
   "id": "f0d44a83",
   "metadata": {},
   "outputs": [
    {
     "name": "stdout",
     "output_type": "stream",
     "text": [
      "Datos guardados correctamente.\n"
     ]
    }
   ],
   "source": [
    "# Guardar en CSV\n",
    "player_stats.to_csv(f\"nba_player_stats_{season}.csv\", index=False)\n",
    "team_stats.to_csv(f\"nba_team_stats{season}.csv\", index=False)\n",
    "\n",
    "print(\"Datos guardados correctamente.\")"
   ]
  }
 ],
 "metadata": {
  "kernelspec": {
   "display_name": "nba-predict",
   "language": "python",
   "name": "python3"
  },
  "language_info": {
   "codemirror_mode": {
    "name": "ipython",
    "version": 3
   },
   "file_extension": ".py",
   "mimetype": "text/x-python",
   "name": "python",
   "nbconvert_exporter": "python",
   "pygments_lexer": "ipython3",
   "version": "3.12.0"
  }
 },
 "nbformat": 4,
 "nbformat_minor": 5
}
