{
 "cells": [
  {
   "cell_type": "markdown",
   "id": "6e451de7",
   "metadata": {},
   "source": [
    "Limpieza, transformación, ETL"
   ]
  },
  {
   "cell_type": "code",
   "execution_count": 58,
   "id": "72ab3030",
   "metadata": {},
   "outputs": [],
   "source": [
    "import pandas as pd\n",
    "import numpy as np\n",
    "import os"
   ]
  },
  {
   "cell_type": "code",
   "execution_count": 59,
   "id": "c49632b8",
   "metadata": {},
   "outputs": [],
   "source": [
    "# Leer los CSV desde la carpeta data_raw\n",
    "season = \"2025-26\"\n",
    "players = pd.read_csv(f\"../data_raw/nba_player_stats_{season}.csv\")\n",
    "teams = pd.read_csv(f\"../data_raw/nba_team_stats{season}.csv\")"
   ]
  },
  {
   "cell_type": "code",
   "execution_count": 60,
   "id": "6465b598",
   "metadata": {},
   "outputs": [],
   "source": [
    "# --- Limpieza básica de nombres de columnas ---\n",
    "players.columns = players.columns.str.upper().str.replace(\" \", \"_\")\n",
    "teams.columns = teams.columns.str.upper().str.replace(\" \", \"_\")"
   ]
  },
  {
   "cell_type": "code",
   "execution_count": 61,
   "id": "9db2964d",
   "metadata": {},
   "outputs": [],
   "source": [
    "# --- Seleccionar columnas relevantes ---\n",
    "player_cols = [\n",
    "    \"PLAYER_ID\", \"PLAYER\", \"TEAM\", \"GP\", \"MIN\", \"PTS\", \"REB\", \"AST\", \"STL\", \"BLK\",\n",
    "    \"FG_PCT\", \"FG3_PCT\", \"FT_PCT\", \"TOV\"\n",
    "]\n",
    "players = players[player_cols]\n",
    "\n",
    "team_cols = [\n",
    "    \"TEAM_ID\", \"TEAM_NAME\", \"W\", \"L\", \"W_PCT\", \"PTS\", \"REB\", \"AST\", \"STL\", \"BLK\", \"PLUS_MINUS\"\n",
    "]\n",
    "teams = teams[team_cols]\n"
   ]
  },
  {
   "cell_type": "code",
   "execution_count": 62,
   "id": "89d0eef0",
   "metadata": {},
   "outputs": [],
   "source": [
    "# --- Normalizar nombres de equipos ---\n",
    "team_name_map = {\n",
    "    \"Atlanta Hawks\": \"ATL\",\n",
    "    \"Boston Celtics\": \"BOS\",\n",
    "    \"Brooklyn Nets\": \"BKN\",\n",
    "    \"Charlotte Hornets\": \"CHA\",\n",
    "    \"Chicago Bulls\": \"CHI\",\n",
    "    \"Cleveland Cavaliers\": \"CLE\",\n",
    "    \"Dallas Mavericks\": \"DAL\",\n",
    "    \"Denver Nuggets\": \"DEN\",\n",
    "    \"Detroit Pistons\": \"DET\",\n",
    "    \"Golden State Warriors\": \"GSW\",\n",
    "    \"Houston Rockets\": \"HOU\",\n",
    "    \"Indiana Pacers\": \"IND\",\n",
    "    \"LA Clippers\": \"LAC\",\n",
    "    \"Los Angeles Lakers\": \"LAL\",\n",
    "    \"Memphis Grizzlies\": \"MEM\",\n",
    "    \"Miami Heat\": \"MIA\",\n",
    "    \"Milwaukee Bucks\": \"MIL\",\n",
    "    \"Minnesota Timberwolves\": \"MIN\",\n",
    "    \"New Orleans Pelicans\": \"NOP\",\n",
    "    \"New York Knicks\": \"NYK\",\n",
    "    \"Oklahoma City Thunder\": \"OKC\",\n",
    "    \"Orlando Magic\": \"ORL\",\n",
    "    \"Philadelphia 76ers\": \"PHI\",\n",
    "    \"Phoenix Suns\": \"PHX\",\n",
    "    \"Portland Trail Blazers\": \"POR\",\n",
    "    \"Sacramento Kings\": \"SAC\",\n",
    "    \"San Antonio Spurs\": \"SAS\",\n",
    "    \"Toronto Raptors\": \"TOR\",\n",
    "    \"Utah Jazz\": \"UTA\",\n",
    "    \"Washington Wizards\": \"WAS\"\n",
    "}\n",
    "teams[\"TEAM_ABBREV\"] = teams[\"TEAM_NAME\"].map(team_name_map).fillna(teams[\"TEAM_NAME\"])\n"
   ]
  },
  {
   "cell_type": "code",
   "execution_count": null,
   "id": "221e9b00",
   "metadata": {},
   "outputs": [],
   "source": [
    "# --- Agregar métricas de equipo a cada jugador ---\n",
    "merged = players.merge(\n",
    "    teams,\n",
    "    left_on=\"TEAM\",\n",
    "    right_on=\"TEAM_ABBREV\",\n",
    "    how=\"left\"\n",
    ")\n",
    "merged.to_csv(f\"test.csv\", index=False)"
   ]
  },
  {
   "cell_type": "code",
   "execution_count": null,
   "id": "626f44d8",
   "metadata": {},
   "outputs": [
    {
     "ename": "KeyError",
     "evalue": "'REB'",
     "output_type": "error",
     "traceback": [
      "\u001b[31m---------------------------------------------------------------------------\u001b[39m",
      "\u001b[31mKeyError\u001b[39m                                  Traceback (most recent call last)",
      "\u001b[36mFile \u001b[39m\u001b[32mc:\\Users\\Pato\\Documents\\PROGRAMACION\\PYTHON\\NBA-Predict\\nba-predict\\Lib\\site-packages\\pandas\\core\\indexes\\base.py:3812\u001b[39m, in \u001b[36mIndex.get_loc\u001b[39m\u001b[34m(self, key)\u001b[39m\n\u001b[32m   3811\u001b[39m \u001b[38;5;28;01mtry\u001b[39;00m:\n\u001b[32m-> \u001b[39m\u001b[32m3812\u001b[39m     \u001b[38;5;28;01mreturn\u001b[39;00m \u001b[38;5;28;43mself\u001b[39;49m\u001b[43m.\u001b[49m\u001b[43m_engine\u001b[49m\u001b[43m.\u001b[49m\u001b[43mget_loc\u001b[49m\u001b[43m(\u001b[49m\u001b[43mcasted_key\u001b[49m\u001b[43m)\u001b[49m\n\u001b[32m   3813\u001b[39m \u001b[38;5;28;01mexcept\u001b[39;00m \u001b[38;5;167;01mKeyError\u001b[39;00m \u001b[38;5;28;01mas\u001b[39;00m err:\n",
      "\u001b[36mFile \u001b[39m\u001b[32mpandas/_libs/index.pyx:167\u001b[39m, in \u001b[36mpandas._libs.index.IndexEngine.get_loc\u001b[39m\u001b[34m()\u001b[39m\n",
      "\u001b[36mFile \u001b[39m\u001b[32mpandas/_libs/index.pyx:196\u001b[39m, in \u001b[36mpandas._libs.index.IndexEngine.get_loc\u001b[39m\u001b[34m()\u001b[39m\n",
      "\u001b[36mFile \u001b[39m\u001b[32mpandas/_libs/hashtable_class_helper.pxi:7088\u001b[39m, in \u001b[36mpandas._libs.hashtable.PyObjectHashTable.get_item\u001b[39m\u001b[34m()\u001b[39m\n",
      "\u001b[36mFile \u001b[39m\u001b[32mpandas/_libs/hashtable_class_helper.pxi:7096\u001b[39m, in \u001b[36mpandas._libs.hashtable.PyObjectHashTable.get_item\u001b[39m\u001b[34m()\u001b[39m\n",
      "\u001b[31mKeyError\u001b[39m: 'REB'",
      "\nThe above exception was the direct cause of the following exception:\n",
      "\u001b[31mKeyError\u001b[39m                                  Traceback (most recent call last)",
      "\u001b[36mCell\u001b[39m\u001b[36m \u001b[39m\u001b[32mIn[66]\u001b[39m\u001b[32m, line 3\u001b[39m\n\u001b[32m      1\u001b[39m \u001b[38;5;66;03m# --- Calcular métricas derivadas ---\u001b[39;00m\n\u001b[32m      2\u001b[39m merged[\u001b[33m\"\u001b[39m\u001b[33mEFFICIENCY\u001b[39m\u001b[33m\"\u001b[39m] = (\n\u001b[32m----> \u001b[39m\u001b[32m3\u001b[39m     \u001b[43mmerged\u001b[49m\u001b[43m[\u001b[49m\u001b[33;43m\"\u001b[39;49m\u001b[33;43mREB\u001b[39;49m\u001b[33;43m\"\u001b[39;49m\u001b[43m]\u001b[49m + merged[\u001b[33m\"\u001b[39m\u001b[33mAST\u001b[39m\u001b[33m\"\u001b[39m] + merged[\u001b[33m\"\u001b[39m\u001b[33mSTL\u001b[39m\u001b[33m\"\u001b[39m] + merged[\u001b[33m\"\u001b[39m\u001b[33mBLK\u001b[39m\u001b[33m\"\u001b[39m]\n\u001b[32m      4\u001b[39m     - merged[\u001b[33m\"\u001b[39m\u001b[33mTOV\u001b[39m\u001b[33m\"\u001b[39m]\n\u001b[32m      5\u001b[39m ) / merged[\u001b[33m\"\u001b[39m\u001b[33mGP\u001b[39m\u001b[33m\"\u001b[39m]\n",
      "\u001b[36mFile \u001b[39m\u001b[32mc:\\Users\\Pato\\Documents\\PROGRAMACION\\PYTHON\\NBA-Predict\\nba-predict\\Lib\\site-packages\\pandas\\core\\frame.py:4107\u001b[39m, in \u001b[36mDataFrame.__getitem__\u001b[39m\u001b[34m(self, key)\u001b[39m\n\u001b[32m   4105\u001b[39m \u001b[38;5;28;01mif\u001b[39;00m \u001b[38;5;28mself\u001b[39m.columns.nlevels > \u001b[32m1\u001b[39m:\n\u001b[32m   4106\u001b[39m     \u001b[38;5;28;01mreturn\u001b[39;00m \u001b[38;5;28mself\u001b[39m._getitem_multilevel(key)\n\u001b[32m-> \u001b[39m\u001b[32m4107\u001b[39m indexer = \u001b[38;5;28;43mself\u001b[39;49m\u001b[43m.\u001b[49m\u001b[43mcolumns\u001b[49m\u001b[43m.\u001b[49m\u001b[43mget_loc\u001b[49m\u001b[43m(\u001b[49m\u001b[43mkey\u001b[49m\u001b[43m)\u001b[49m\n\u001b[32m   4108\u001b[39m \u001b[38;5;28;01mif\u001b[39;00m is_integer(indexer):\n\u001b[32m   4109\u001b[39m     indexer = [indexer]\n",
      "\u001b[36mFile \u001b[39m\u001b[32mc:\\Users\\Pato\\Documents\\PROGRAMACION\\PYTHON\\NBA-Predict\\nba-predict\\Lib\\site-packages\\pandas\\core\\indexes\\base.py:3819\u001b[39m, in \u001b[36mIndex.get_loc\u001b[39m\u001b[34m(self, key)\u001b[39m\n\u001b[32m   3814\u001b[39m     \u001b[38;5;28;01mif\u001b[39;00m \u001b[38;5;28misinstance\u001b[39m(casted_key, \u001b[38;5;28mslice\u001b[39m) \u001b[38;5;129;01mor\u001b[39;00m (\n\u001b[32m   3815\u001b[39m         \u001b[38;5;28misinstance\u001b[39m(casted_key, abc.Iterable)\n\u001b[32m   3816\u001b[39m         \u001b[38;5;129;01mand\u001b[39;00m \u001b[38;5;28many\u001b[39m(\u001b[38;5;28misinstance\u001b[39m(x, \u001b[38;5;28mslice\u001b[39m) \u001b[38;5;28;01mfor\u001b[39;00m x \u001b[38;5;129;01min\u001b[39;00m casted_key)\n\u001b[32m   3817\u001b[39m     ):\n\u001b[32m   3818\u001b[39m         \u001b[38;5;28;01mraise\u001b[39;00m InvalidIndexError(key)\n\u001b[32m-> \u001b[39m\u001b[32m3819\u001b[39m     \u001b[38;5;28;01mraise\u001b[39;00m \u001b[38;5;167;01mKeyError\u001b[39;00m(key) \u001b[38;5;28;01mfrom\u001b[39;00m\u001b[38;5;250m \u001b[39m\u001b[34;01merr\u001b[39;00m\n\u001b[32m   3820\u001b[39m \u001b[38;5;28;01mexcept\u001b[39;00m \u001b[38;5;167;01mTypeError\u001b[39;00m:\n\u001b[32m   3821\u001b[39m     \u001b[38;5;66;03m# If we have a listlike key, _check_indexing_error will raise\u001b[39;00m\n\u001b[32m   3822\u001b[39m     \u001b[38;5;66;03m#  InvalidIndexError. Otherwise we fall through and re-raise\u001b[39;00m\n\u001b[32m   3823\u001b[39m     \u001b[38;5;66;03m#  the TypeError.\u001b[39;00m\n\u001b[32m   3824\u001b[39m     \u001b[38;5;28mself\u001b[39m._check_indexing_error(key)\n",
      "\u001b[31mKeyError\u001b[39m: 'REB'"
     ]
    }
   ],
   "source": [
    "# --- Calcular métricas derivadas ---\n",
    "merged[\"EFFICIENCY\"] = (\n",
    "    merged[\"PTS\"] + merged[\"REB\"] + merged[\"AST\"] + merged[\"STL\"] + merged[\"BLK\"]\n",
    "    - merged[\"TOV\"]\n",
    ") / merged[\"GP\"]"
   ]
  }
 ],
 "metadata": {
  "kernelspec": {
   "display_name": "nba-predict",
   "language": "python",
   "name": "python3"
  },
  "language_info": {
   "codemirror_mode": {
    "name": "ipython",
    "version": 3
   },
   "file_extension": ".py",
   "mimetype": "text/x-python",
   "name": "python",
   "nbconvert_exporter": "python",
   "pygments_lexer": "ipython3",
   "version": "3.12.0"
  }
 },
 "nbformat": 4,
 "nbformat_minor": 5
}
